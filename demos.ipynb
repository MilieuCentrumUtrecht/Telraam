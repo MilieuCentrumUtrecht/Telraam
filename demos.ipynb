{
 "cells": [
  {
   "cell_type": "code",
   "execution_count": null,
   "metadata": {},
   "outputs": [],
   "source": [
    "# Generieke imports, variabelen en functies.\n",
    "\n",
    "from pathlib import Path\n",
    "\n",
    "import numpy as np\n",
    "import pandas as pd\n",
    "\n",
    "from telraam import inlezen\n",
    "\n",
    "api_key = ''  # voeg hier de API key toe\n",
    "\n",
    "data_directory = Path('~', 'telraam').expanduser()\n",
    "\n",
    "example_cam_id = 202481595622896\n",
    "example_segment_id = 9000003890\n",
    "\n",
    "output_directory = Path(data_directory, 'output')\n",
    "output_directory.mkdir(parents=True, exist_ok=True)\n",
    "\n",
    "print(f'writing output to {output_directory}.')\n"
   ]
  },
  {
   "cell_type": "markdown",
   "metadata": {},
   "source": [
    "## Get cameras."
   ]
  },
  {
   "cell_type": "code",
   "execution_count": null,
   "metadata": {},
   "outputs": [],
   "source": [
    "# get all cameras\n",
    "json = inlezen.get_cameras(api_key)\n",
    "df_cam1 = pd.DataFrame(json['cameras'])\n",
    "df_cam1\n"
   ]
  },
  {
   "cell_type": "code",
   "execution_count": null,
   "metadata": {},
   "outputs": [],
   "source": [
    "# get camera with ID\n",
    "json = inlezen.get_cameras(api_key, id={'mac': example_cam_id})\n",
    "df_cam2 = pd.DataFrame(json['camera'])\n",
    "\n",
    "df_cam2\n"
   ]
  },
  {
   "cell_type": "code",
   "execution_count": null,
   "metadata": {},
   "outputs": [],
   "source": [
    "# get cameras in segment with ID\n",
    "json = inlezen.get_cameras(api_key, id={'segment': example_segment_id})\n",
    "df_cam3 = pd.DataFrame(json['camera'])\n",
    "df_cam3\n"
   ]
  },
  {
   "cell_type": "markdown",
   "metadata": {},
   "source": [
    "## Get segments"
   ]
  },
  {
   "cell_type": "code",
   "execution_count": null,
   "metadata": {},
   "outputs": [],
   "source": [
    "# get all segments\n",
    "json = inlezen.get_segments(api_key)\n",
    "json"
   ]
  },
  {
   "cell_type": "code",
   "execution_count": null,
   "metadata": {},
   "outputs": [],
   "source": [
    "# get segment with ID\n",
    "json = inlezen.get_segments(api_key, id={'segment': example_segment_id})\n",
    "json"
   ]
  },
  {
   "cell_type": "markdown",
   "metadata": {},
   "source": [
    "## Get data."
   ]
  },
  {
   "cell_type": "code",
   "execution_count": null,
   "metadata": {},
   "outputs": [],
   "source": [
    "# get data for januari 2023 from segment with ID\n",
    "json = inlezen.get_data(\n",
    "    api_key,\n",
    "    id=str(example_segment_id),\n",
    "    start_datum='2023-01-01',\n",
    "    stop_datum='2023-02-01',\n",
    "    )\n",
    "json\n"
   ]
  },
  {
   "cell_type": "code",
   "execution_count": null,
   "metadata": {},
   "outputs": [],
   "source": [
    "# get data for januari 2023 from camera with ID\n",
    "json = inlezen.get_data(\n",
    "    api_key,\n",
    "    id=str(example_cam_id),\n",
    "    start_datum='2023-01-01',\n",
    "    stop_datum='2023-02-01',\n",
    "    level='instances',\n",
    "    )  \n",
    "json\n"
   ]
  },
  {
   "cell_type": "code",
   "execution_count": null,
   "metadata": {},
   "outputs": [],
   "source": []
  }
 ],
 "metadata": {
  "kernelspec": {
   "display_name": "Python 3",
   "language": "python",
   "name": "python3"
  },
  "language_info": {
   "codemirror_mode": {
    "name": "ipython",
    "version": 3
   },
   "file_extension": ".py",
   "mimetype": "text/x-python",
   "name": "python",
   "nbconvert_exporter": "python",
   "pygments_lexer": "ipython3",
   "version": "3.11.6"
  }
 },
 "nbformat": 4,
 "nbformat_minor": 2
}
